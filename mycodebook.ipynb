{
 "cells": [
  {
   "cell_type": "code",
   "execution_count": 1,
   "metadata": {},
   "outputs": [
    {
     "name": "stdout",
     "output_type": "stream",
     "text": [
      "Enter the number of rows6\n",
      "1 \n",
      "1 2 \n",
      "1 2 3 \n",
      "1 2 3 4 \n",
      "1 2 3 4 5 \n",
      "1 2 3 4 5 6 \n"
     ]
    }
   ],
   "source": [
    "# pattern\n",
    "n=eval(input(\"Enter the number of rows\"))\n",
    "\n",
    "for i in range(1,n+1):\n",
    "    for j in range(1,i+1):\n",
    "        print(j,end=\" \")\n",
    "    print()"
   ]
  },
  {
   "cell_type": "code",
   "execution_count": 22,
   "metadata": {},
   "outputs": [
    {
     "name": "stdout",
     "output_type": "stream",
     "text": [
      "Enter the number of rows8\n",
      "1 \n",
      "2 2 \n",
      "3 3 3 \n",
      "4 4 4 4 \n",
      "5 5 5 5 5 \n",
      "6 6 6 6 6 6 \n",
      "7 7 7 7 7 7 7 \n",
      "8 8 8 8 8 8 8 8 \n"
     ]
    }
   ],
   "source": [
    "n=eval(input(\"Enter the number of rows\"))\n",
    "\n",
    "for i in range(1,n+1):\n",
    "    for j in range(1,i+1):\n",
    "        print(i,end=\" \")\n",
    "    print()"
   ]
  },
  {
   "cell_type": "code",
   "execution_count": 23,
   "metadata": {
    "scrolled": true
   },
   "outputs": [
    {
     "name": "stdout",
     "output_type": "stream",
     "text": [
      "Enter the number of rows5\n",
      "* \n",
      "* * \n",
      "* * * \n",
      "* * * * \n",
      "* * * * * \n"
     ]
    }
   ],
   "source": [
    "n=eval(input(\"Enter the number of rows\"))\n",
    "\n",
    "for i in range(1,n+1):\n",
    "    for j in range(1,i+1):\n",
    "        print(\"*\",end=\" \")\n",
    "    print()"
   ]
  },
  {
   "cell_type": "code",
   "execution_count": 63,
   "metadata": {
    "scrolled": false
   },
   "outputs": [
    {
     "name": "stdout",
     "output_type": "stream",
     "text": [
      "Enter the number of rows5\n",
      "    * \n",
      "   * * \n",
      "  * * * \n",
      " * * * * \n",
      "* * * * * \n"
     ]
    }
   ],
   "source": [
    "n=eval(input(\"Enter the number of rows\"))\n",
    "\n",
    "for i in range(0,n):\n",
    "    for j in range(0,n-i-1):\n",
    "        print(end=\" \")\n",
    "    for j in range(0,i+1):\n",
    "        print(\"*\", end=\" \")\n",
    "    print()"
   ]
  },
  {
   "cell_type": "code",
   "execution_count": 11,
   "metadata": {
    "scrolled": true
   },
   "outputs": [
    {
     "name": "stdout",
     "output_type": "stream",
     "text": [
      "Enter the number to check prime or not: 7\n",
      "7 Prime\n"
     ]
    }
   ],
   "source": [
    "# prime no.\n",
    "n=eval(input(\"Enter the number to check prime or not: \"))\n",
    "\n",
    "for i in range(2,n):\n",
    "    if n%i==0:\n",
    "        print(n,\"Not Prime\")\n",
    "        break;\n",
    "else:\n",
    "        print(n,\"Prime\")\n"
   ]
  },
  {
   "cell_type": "code",
   "execution_count": 6,
   "metadata": {
    "scrolled": false
   },
   "outputs": [
    {
     "name": "stdout",
     "output_type": "stream",
     "text": [
      "Enter the starting number:5\n",
      "Enter the ending number:10\n",
      "5 prime\n",
      "6 Not Prime\n",
      "7 prime\n",
      "8 Not Prime\n",
      "9 Not Prime\n",
      "10 Not Prime\n"
     ]
    }
   ],
   "source": [
    "# prime2\n",
    "\n",
    "start=eval(input(\"Enter the starting number:\"))\n",
    "end=eval(input(\"Enter the ending number:\"))\n",
    "for n in range(start,end+1):\n",
    "    for i in range(2,n):\n",
    "        if n%i==0:\n",
    "            print(n,\"Not Prime\")\n",
    "            break;\n",
    "    else:\n",
    "            print(n,\"prime\")"
   ]
  },
  {
   "cell_type": "code",
   "execution_count": 16,
   "metadata": {
    "scrolled": true
   },
   "outputs": [
    {
     "name": "stdout",
     "output_type": "stream",
     "text": [
      "Enter the number to find Factorial:5\n",
      "1 Factorial\n",
      "2 Factorial\n",
      "6 Factorial\n",
      "24 Factorial\n",
      "120 Factorial\n"
     ]
    }
   ],
   "source": [
    "# factorial\n",
    "\n",
    "n=eval(input(\"Enter the number to find Factorial:\"))\n",
    "f=1\n",
    "for i in range(1,i):\n",
    "    f=f*i\n",
    "    print(f,\"Factorial\")\n",
    "\n"
   ]
  },
  {
   "cell_type": "code",
   "execution_count": 18,
   "metadata": {
    "scrolled": true
   },
   "outputs": [
    {
     "name": "stdout",
     "output_type": "stream",
     "text": [
      "Enter the first number:5\n",
      "Enter the second number:6\n",
      "5\n",
      "10\n",
      "15\n",
      "20\n",
      "25\n",
      "30\n"
     ]
    }
   ],
   "source": [
    "# Reptitive addition\n",
    "\n",
    "n1=eval(input(\"Enter the first number:\"))\n",
    "n2=eval(input(\"Enter the second number:\"))\n",
    "sum=0\n",
    "for i in range(1,n2+1):\n",
    "    sum= sum+n1\n",
    "    \n",
    "    print(sum)\n",
    "    "
   ]
  },
  {
   "cell_type": "code",
   "execution_count": 31,
   "metadata": {},
   "outputs": [
    {
     "name": "stdout",
     "output_type": "stream",
     "text": [
      "[45, 78, [45, 58, 78, 56], ['ram', 'sham', True], ['dash', 'champ', 89, 32], '5050']\n"
     ]
    }
   ],
   "source": [
    "# List, tuple and dictionary\n",
    "list=[45,58,78,56]\n",
    "\n",
    "list2=[45,78,list,[\"ram\",\"sham\",True],[\"dash\",\"champ\",89,32],\"5050\"]\n",
    "print(list2)\n",
    "\n",
    "\n"
   ]
  },
  {
   "cell_type": "code",
   "execution_count": 32,
   "metadata": {},
   "outputs": [
    {
     "name": "stdout",
     "output_type": "stream",
     "text": [
      "45\n",
      "78\n",
      "[45, 58, 78, 56]\n",
      "['ram', 'sham', True]\n",
      "['dash', 'champ', 89, 32]\n",
      "5050\n"
     ]
    }
   ],
   "source": [
    "for s in list2:\n",
    "    print(s)\n"
   ]
  },
  {
   "cell_type": "code",
   "execution_count": 39,
   "metadata": {},
   "outputs": [
    {
     "name": "stdout",
     "output_type": "stream",
     "text": [
      "[45, 58, 78, 56]\n",
      "4\n",
      "[45, 58, 78, 56, 45, 58, 78, 56]\n",
      "[45, 58, 78, 56, 45, 58, 78, 56]\n",
      "True\n",
      "[45, 58, 78, 56, 5, 58, 23, 12, 'yo']\n"
     ]
    }
   ],
   "source": [
    "# basic operation list\n",
    "\n",
    "list3=[45,58,78,56]\n",
    "print(list3)  \n",
    "print(len(list3))    #length\n",
    "print(list3*2)       #repetition\n",
    "print(list3+list3)    #concatnation\n",
    "print(78 in list3)    #to check the element, it is here or not\n",
    "\n",
    "#list can be concatinated with other list\n",
    "print(list3+[5]+[58,23,12,\"yo\"])"
   ]
  },
  {
   "cell_type": "code",
   "execution_count": 75,
   "metadata": {},
   "outputs": [
    {
     "name": "stdout",
     "output_type": "stream",
     "text": [
      "[82, 78, 23, 69, 42, 42]\n",
      "82\n",
      "23\n",
      "6\n",
      "[82, 78, 23, 69, 42, 42, 50]\n",
      "2\n",
      "[82, 78, 36, 23, 69, 42, 42, 50]\n",
      "50\n"
     ]
    }
   ],
   "source": [
    "list4=[82,78,23,69,42,42]\n",
    "print(list4)\n",
    "print(max(list4))\n",
    "print(min(list4))\n",
    "print(len(list4))\n",
    "list4.append(50)    #add the element of the last position\n",
    "print(list4)\n",
    "print(list4.count(42))  #count the no.of occureces\n",
    "list4.insert(2,36)     \n",
    "print(list4)\n",
    "print(list4.pop())      #last element\n"
   ]
  },
  {
   "cell_type": "code",
   "execution_count": 78,
   "metadata": {},
   "outputs": [
    {
     "name": "stdout",
     "output_type": "stream",
     "text": [
      "[53, 83, 5.5, 52, 36]\n",
      "[53, 83, 5.5, 52]\n"
     ]
    }
   ],
   "source": [
    "arr=[53,83,5.5,52,36]\n",
    "print(arr)\n",
    "arr.remove(36)\n",
    "print(arr)"
   ]
  },
  {
   "cell_type": "code",
   "execution_count": 1,
   "metadata": {},
   "outputs": [
    {
     "name": "stdout",
     "output_type": "stream",
     "text": [
      "[23, 6, 89, 0.1, 5.5, 7.1, 8.99]\n",
      "89\n",
      "[6, 89]\n",
      "[23, 6, 89]\n",
      "[0.1, 5.5, 7.1, 8.99]\n",
      "[5.5, 7.1, 8.99]\n",
      "[23, 5.5, 7.1, 8.99]\n"
     ]
    }
   ],
   "source": [
    "#slicing and indexing\n",
    "\n",
    "team=[23,6,89,0.1,5.5,7.1,8.99]\n",
    "print(team)\n",
    "print(team[2])\n",
    "#team[2]\n",
    "print(team[1:3])\n",
    "print(team[:3])     #ending point\n",
    "print(team[3:])     #all elements from starting point\n",
    "team2=team[4:]     #new list\n",
    "print(team2)\n",
    "\n",
    "# list shrinking\n",
    "\n",
    "team[1:4]=[]\n",
    "print(team)"
   ]
  },
  {
   "cell_type": "code",
   "execution_count": 1,
   "metadata": {},
   "outputs": [
    {
     "name": "stdout",
     "output_type": "stream",
     "text": [
      "This is module calling\n",
      "Accepted\n"
     ]
    }
   ],
   "source": [
    "from myModule import hiModule\n",
    "hiModule()"
   ]
  },
  {
   "cell_type": "code",
   "execution_count": 5,
   "metadata": {},
   "outputs": [
    {
     "name": "stdout",
     "output_type": "stream",
     "text": [
      "My Name is dashminder\n",
      "I am a student\n"
     ]
    }
   ],
   "source": [
    "from myname import myname\n",
    "myname()"
   ]
  },
  {
   "cell_type": "code",
   "execution_count": 8,
   "metadata": {},
   "outputs": [
    {
     "name": "stdout",
     "output_type": "stream",
     "text": [
      "[10, 20, 30, 40, 50]\n",
      "[10, 20, 30, 40, 50]\n",
      "a==b same\n",
      "a is b true\n"
     ]
    }
   ],
   "source": [
    "#list equivalence/refrence\n",
    "\n",
    "a=[10,20,30,40,50]\n",
    "print(a)\n",
    "b=a\n",
    "print(b)\n",
    "if(a==b):\n",
    "    print(\"a==b same\")\n",
    "if(a is b):\n",
    "    print(\"a is b true\")"
   ]
  },
  {
   "cell_type": "code",
   "execution_count": 10,
   "metadata": {},
   "outputs": [
    {
     "name": "stdout",
     "output_type": "stream",
     "text": [
      "a==c true\n",
      "780156233544\n",
      "780156233544\n",
      "780156233736\n"
     ]
    }
   ],
   "source": [
    "c=[10,20,30,40,50]\n",
    "if(a==c):\n",
    "    print(\"a==c true\")\n",
    "if(a is c):\n",
    "    print(\"a is c true\")\n",
    "print(id(a))\n",
    "print(id(b))\n",
    "print(id(c))"
   ]
  },
  {
   "cell_type": "code",
   "execution_count": 12,
   "metadata": {},
   "outputs": [
    {
     "name": "stdout",
     "output_type": "stream",
     "text": [
      "[1, 3, 5, 7, 1, 3, 5, 7, 1, 3, 5, 7, 1, 3, 5, 7]\n",
      "[[1, 3, 5, 7], [1, 3, 5, 7], [1, 3, 5, 7], [1, 3, 5, 7]]\n"
     ]
    }
   ],
   "source": [
    "#repetion\n",
    "\n",
    "A=[1,3,5,7]\n",
    "print(A*4)\n",
    "print([A]*4)"
   ]
  },
  {
   "cell_type": "code",
   "execution_count": 21,
   "metadata": {},
   "outputs": [
    {
     "name": "stdout",
     "output_type": "stream",
     "text": [
      "['Dashminder', 'Singh'] ['firstname', 'lastname']\n",
      "[('firstname', 'Dashminder'), ('lastname', 'Singh')]\n",
      "('firstname', 'lastname') ('Dashminder', 'Singh')\n"
     ]
    }
   ],
   "source": [
    "#Zip\n",
    "\n",
    "studata=['Dashminder','Singh']\n",
    "header=['firstname','lastname']\n",
    "print(studata,header)\n",
    "\n",
    "studataheader=list(zip(header,studata))  #create a list or Zip\n",
    "print(studataheader)\n",
    "studata,header=zip(*studataheader)    #unzip the list\n",
    "print(studata,header)"
   ]
  },
  {
   "cell_type": "code",
   "execution_count": 35,
   "metadata": {},
   "outputs": [
    {
     "name": "stdout",
     "output_type": "stream",
     "text": [
      "(20, 30, 50)\n",
      "[10, 53, 12]\n",
      "[10, 23, 12]\n",
      "[10, 23, 12, 10, 23, 12]\n"
     ]
    }
   ],
   "source": [
    "# tuples\n",
    "#immutable-cannot be changed\n",
    "\n",
    "t=(20,30,50)\n",
    "print(t)\n",
    "t[1]\n",
    "#t[1]=40 it cannot support item assignment- tuple cannot be change,but list can be changed\n",
    "\n",
    "t2=[10,53,12]\n",
    "print(t2)\n",
    "t2[1]=23\n",
    "print(t2)\n",
    "print(t2*2)\n",
    "\n"
   ]
  },
  {
   "cell_type": "code",
   "execution_count": 36,
   "metadata": {},
   "outputs": [
    {
     "name": "stdout",
     "output_type": "stream",
     "text": [
      "{}\n"
     ]
    }
   ],
   "source": [
    "#dictionary\n",
    "\n",
    "\n",
    "dict1={}    #create an empty dictinary\n",
    "print(dict1)"
   ]
  },
  {
   "cell_type": "code",
   "execution_count": 16,
   "metadata": {},
   "outputs": [
    {
     "name": "stdout",
     "output_type": "stream",
     "text": [
      "{'name': 'Dashminder', 'age': 22, 'salary': 5472095}\n",
      "Dashminder\n",
      "5472095\n",
      "Champ\n"
     ]
    },
    {
     "data": {
      "text/plain": [
       "{'name': 'Champ', 'age': 22, 'salary': 5472095, 'qty': 123}"
      ]
     },
     "execution_count": 16,
     "metadata": {},
     "output_type": "execute_result"
    }
   ],
   "source": [
    "dict2={'name':'Dashminder','age':22,'salary':5472095}\n",
    "print(dict2)\n",
    "#print(dict2('name'))\n",
    "\n",
    "#dict2['name']  access the value from dictionary   _Key and value can be anything\n",
    "print(dict2['name'])\n",
    "#print(dict2['age'])\n",
    "print(dict2['salary'])\n",
    "dict2['name']=\"Champ\"  #update the value with specific key\n",
    "print(dict2['name'])\n",
    "\n",
    "\n",
    "#del dict2['qty']\n",
    "\n",
    "dict2['qty']=123 \n",
    "dict2                                #order is important"
   ]
  },
  {
   "cell_type": "code",
   "execution_count": null,
   "metadata": {},
   "outputs": [],
   "source": []
  }
 ],
 "metadata": {
  "kernelspec": {
   "display_name": "Python 3",
   "language": "python",
   "name": "python3"
  },
  "language_info": {
   "codemirror_mode": {
    "name": "ipython",
    "version": 3
   },
   "file_extension": ".py",
   "mimetype": "text/x-python",
   "name": "python",
   "nbconvert_exporter": "python",
   "pygments_lexer": "ipython3",
   "version": "3.7.4"
  }
 },
 "nbformat": 4,
 "nbformat_minor": 2
}
